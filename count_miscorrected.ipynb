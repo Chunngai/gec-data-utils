{
 "cells": [
  {
   "cell_type": "code",
   "execution_count": 12,
   "metadata": {},
   "outputs": [],
   "source": [
    "def count_miscorrected(fp_src, fp_trg, fp_out):\n",
    "    with open(fp_src) as f_src, open(fp_trg) as f_trg, open(fp_out) as f_out:\n",
    "        srcs = f_src.readlines()\n",
    "        trgs = f_trg.readlines()\n",
    "        outs = f_out.readlines()\n",
    "        \n",
    "    count_miscorrected = 0\n",
    "    count_all = 0\n",
    "    for src, trg, out in zip(srcs, trgs, outs):\n",
    "        if src == trg and trg != out:\n",
    "            count_miscorrected += 1\n",
    "        count_all += 1\n",
    "        \n",
    "    print(f\"mis_corrected: {count_miscorrected}, all: {count_all}, ratio: {count_miscorrected/count_all:.2%}\")"
   ]
  },
  {
   "cell_type": "code",
   "execution_count": 13,
   "metadata": {},
   "outputs": [
    {
     "name": "stdout",
     "output_type": "stream",
     "text": [
      "mis_corrected: 242, all: 2695, ratio: 8.98%\n"
     ]
    }
   ],
   "source": [
    "count_miscorrected(\n",
    "    fp_src=\"data/raw/fce-test.src\",\n",
    "    fp_trg=\"data/raw/fce-test.trg\",\n",
    "    fp_out=\"output_samples/fce.out\"\n",
    ")"
   ]
  },
  {
   "cell_type": "code",
   "execution_count": 14,
   "metadata": {},
   "outputs": [
    {
     "name": "stdout",
     "output_type": "stream",
     "text": [
      "mis_corrected: 25, all: 1312, ratio: 1.91%\n"
     ]
    }
   ],
   "source": [
    "count_miscorrected(\n",
    "    fp_src=\"data/raw/conll14.src\",\n",
    "    fp_trg=\"data/raw/conll14.trg\",\n",
    "    fp_out=\"output_samples/conll14.out\"\n",
    ")"
   ]
  },
  {
   "cell_type": "code",
   "execution_count": null,
   "metadata": {},
   "outputs": [],
   "source": []
  }
 ],
 "metadata": {
  "kernelspec": {
   "display_name": "Python 3",
   "language": "python",
   "name": "python3"
  },
  "language_info": {
   "codemirror_mode": {
    "name": "ipython",
    "version": 3
   },
   "file_extension": ".py",
   "mimetype": "text/x-python",
   "name": "python",
   "nbconvert_exporter": "python",
   "pygments_lexer": "ipython3",
   "version": "3.8.10"
  }
 },
 "nbformat": 4,
 "nbformat_minor": 4
}
